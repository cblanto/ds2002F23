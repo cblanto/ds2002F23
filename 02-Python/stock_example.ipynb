{
 "cells": [
  {
   "cell_type": "markdown",
   "id": "e562e345-7622-434f-a455-c2d0007b6a79",
   "metadata": {},
   "source": [
    "Yahoo Example for calling and aPI\n",
    "Tutorial here --> https://financeapi.net/\n",
    "1. You will need to get your API key\n",
    "2. Examine the demo page and sample data to be returned\n"
   ]
  },
  {
   "cell_type": "code",
   "execution_count": 14,
   "id": "6152718e-e56a-40a3-80c5-29215b30f516",
   "metadata": {},
   "outputs": [],
   "source": [
    "import json\n",
    "import pandas as pd\n",
    "import json\n",
    "import requests"
   ]
  },
  {
   "cell_type": "code",
   "execution_count": 15,
   "id": "012e806b-0d60-4330-80d6-797881126d0f",
   "metadata": {},
   "outputs": [
    {
     "name": "stdout",
     "output_type": "stream",
     "text": [
      "GOOG\n"
     ]
    }
   ],
   "source": [
    "#get stock from the user\n",
    "stock=input()\n"
   ]
  },
  {
   "cell_type": "code",
   "execution_count": 16,
   "id": "dbee80bb-960a-4349-a171-e410e80bcb42",
   "metadata": {},
   "outputs": [
    {
     "name": "stdout",
     "output_type": "stream",
     "text": [
      "The Stock we will research is:GOOG\n"
     ]
    }
   ],
   "source": [
    "print(\"The Stock we will research is:\" + stock)"
   ]
  },
  {
   "cell_type": "code",
   "execution_count": 17,
   "id": "452f35c5-e29b-424e-9646-42c088d01ac8",
   "metadata": {},
   "outputs": [
    {
     "name": "stdout",
     "output_type": "stream",
     "text": [
      "{\"quoteResponse\":{\"result\":[{\"language\":\"en-US\",\"region\":\"US\",\"quoteType\":\"EQUITY\",\"triggerable\":true,\"quoteSourceName\":\"Nasdaq Real Time Price\",\"epsTrailingTwelveMonths\":4.72,\"epsForward\":6.64,\"fullExchangeName\":\"NasdaqGS\",\"longName\":\"Alphabet Inc.\",\"financialCurrency\":\"USD\",\"averageDailyVolume3Month\":22348082,\"averageDailyVolume10Day\":19911450,\"regularMarketPrice\":136.66,\"regularMarketTime\":1695228278,\"regularMarketChange\":-2.1699982,\"regularMarketOpen\":138.83,\"regularMarketDayHigh\":138.84,\"regularMarketDayLow\":136.17,\"regularMarketVolume\":8137891,\"priceHint\":2,\"exchange\":\"NMS\",\"fiftyTwoWeekLowChange\":53.210007,\"fiftyTwoWeekLowChangePercent\":0.6376274,\"fiftyTwoWeekRange\":\"83.45 - 139.93\",\"fiftyTwoWeekHighChange\":-3.269989,\"sharesOutstanding\":5800999936,\"currency\":\"USD\",\"marketState\":\"REGULAR\",\"fiftyDayAverage\":130.7008,\"fiftyDayAverageChange\":5.959198,\"fiftyDayAverageChangePercent\":0.045594193,\"twoHundredDayAverage\":111.23467,\"twoHundredDayAverageChange\":25.425331,\"twoHundredDayAverageChangePercent\":0.2285738,\"epsCurrentYear\":5.62,\"market\":\"us_market\",\"trailingAnnualDividendYield\":0.0,\"regularMarketDayRange\":\"136.17 - 138.84\",\"regularMarketPreviousClose\":138.83,\"bid\":136.71,\"ask\":136.72,\"bidSize\":10,\"askSize\":11,\"messageBoardId\":\"finmb_29096\",\"shortName\":\"Alphabet Inc.\",\"sourceInterval\":15,\"exchangeTimezoneName\":\"America/New_York\",\"exchangeTimezoneShortName\":\"EDT\",\"regularMarketChangePercent\":-1.5630614,\"earningsTimestamp\":1690318800,\"earningsTimestampStart\":1698058740,\"earningsTimestampEnd\":1698408000,\"trailingAnnualDividendRate\":0.0,\"trailingPE\":28.953392,\"esgPopulated\":false,\"tradeable\":false,\"priceEpsCurrentYear\":24.316727,\"bookValue\":21.153,\"marketCap\":1718130573312,\"forwardPE\":20.581326,\"priceToBook\":6.4605494,\"fiftyTwoWeekHighChangePercent\":-0.02336875,\"fiftyTwoWeekLow\":83.45,\"fiftyTwoWeekHigh\":139.93,\"gmtOffSetMilliseconds\":-14400000,\"exchangeDataDelayedBy\":0,\"symbol\":\"GOOG\"}],\"error\":null}}\n"
     ]
    }
   ],
   "source": [
    "apikey=\"V8SOTjvAK63kpuCs3B5Hl6y0QM14Z4e96DHRrxb8\"\n",
    "\n",
    "url = \"https://yfapi.net/v6/finance/quote\"\n",
    "\n",
    "querystring = {\"symbols\":stock}\n",
    "\n",
    "headers = {\n",
    "    'x-api-key': apikey\n",
    "    }\n",
    "\n",
    "response = requests.request(\"GET\", url, headers=headers, params=querystring)\n",
    "\n",
    "print(response.text)\n"
   ]
  },
  {
   "cell_type": "markdown",
   "id": "caf2e9c8-36c7-4fb2-8426-733c24d13c92",
   "metadata": {},
   "source": [
    "\n",
    "\n",
    "stock_json = response.json()\n",
    "print(stock_json['quoteResponse']['result'][0][\"displayName\"] + \" Price:$\" + str(stock_json['quoteResponse']['result'][0][\"regularMarketPrice\"]))"
   ]
  },
  {
   "cell_type": "code",
   "execution_count": 18,
   "id": "dd900693-c177-4b85-9e66-461e777b25d5",
   "metadata": {},
   "outputs": [
    {
     "name": "stdout",
     "output_type": "stream",
     "text": [
      "Alphabet Inc. Price:$136.66\n"
     ]
    }
   ],
   "source": [
    "stock_json = response.json() \n",
    "print(stock_json['quoteResponse']['result'][0][\"longName\"] + \" Price:$\" + str(stock_json['quoteResponse']['result'][0][\"regularMarketPrice\"]))"
   ]
  },
  {
   "cell_type": "code",
   "execution_count": null,
   "id": "ecb7e87d-51f0-4888-9e11-4ebc5cadb798",
   "metadata": {},
   "outputs": [],
   "source": []
  }
 ],
 "metadata": {
  "kernelspec": {
   "display_name": "Python 3 (ipykernel)",
   "language": "python",
   "name": "python3"
  },
  "language_info": {
   "codemirror_mode": {
    "name": "ipython",
    "version": 3
   },
   "file_extension": ".py",
   "mimetype": "text/x-python",
   "name": "python",
   "nbconvert_exporter": "python",
   "pygments_lexer": "ipython3",
   "version": "3.11.4"
  }
 },
 "nbformat": 4,
 "nbformat_minor": 5
}
